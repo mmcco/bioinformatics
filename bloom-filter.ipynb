{
 "metadata": {
  "name": "",
  "signature": "sha256:a8bbdb569ab3770c4d8410587838405d5c0a3e8726c82a9d7c08a55c784d0426"
 },
 "nbformat": 3,
 "nbformat_minor": 0,
 "worksheets": [
  {
   "cells": [
    {
     "cell_type": "markdown",
     "metadata": {},
     "source": [
      "As you probably know, disk access is painfully slow and should be avoided at all costs. Often, programs use a large set, a group of unique values, that cannot fit in RAM and must be stored on disk. In a simple set implementation, we must access the full set data in order to add a value (regardless of whether it's already a member) and to check whether a value is a member.\n",
      "\n",
      "For many use cases, it would be very useful to have a smaller data structure stored in memory that estimates whether a value is a member of our set. Because this structure would be much smaller than the full set, thereby storing much less information, it could not give a definitive answer. However, instead of returning \u201cTrue\u201d or \u201cFalse\u201d when asked if a set contains a value, our \u201cfirst-pass filter\u201d could return \u201cPossibly\u201d or \u201cFalse\u201d. When it returns \u201cPossibly\u201d, the full set must then be searched to determine whether the value is actually a member. When it returns \u201cFalse\u201d, though, we do not need to access disk.\n",
      "\n",
      "A simple solution to this problem would be storing each value\u2019s [hash](https://en.wikipedia.org/wiki/Hash_function) in a list. Hash functions are many-to-one; multiple values can have the same hash, but each value has only one valid hash. If a value\u2019s hash exists in our list, it might be in the set, or the set might just contain another value with the same hash. If the value\u2019s hash isn\u2019t in the list, the value definitely isn\u2019t in the set.\n",
      "\n",
      "Our first-pass list filter is a decent solution, but it isn\u2019t quite ideal. Ignoring hash collisions (two values having the same hash), it grows in proportion to the set, and can therefore become unwieldy for really big sets. Assuming we don\u2019t want to use extra memory to make a hash table of the hashes, we need to spend log(n) time finding a hash if the list is sorted, and linear time if it isn\u2019t.\n",
      "\n",
      "Bloom filters, an alternative, offer constant space and constant lookup time. While the rate of false positives (\u201cProbably\u201d responses for values not in the set) increases modestly as the set grows, relatively small Bloom filters have low (~1%) false positive rates for very large data sets.\n",
      "\n",
      "Below is a simple implementation of a Bloom filter in Python."
     ]
    },
    {
     "cell_type": "code",
     "collapsed": false,
     "input": [
      "class BloomFilter:\n",
      "\n",
      "    def __init__(self, m, k):\n",
      "        self.m = m\n",
      "        self.k = k\n",
      "        self.bitArray = [0 for _ in range(0, m)]\n",
      "\n",
      "        \n",
      "    def getIndices(self, val):\n",
      "        indices = []\n",
      "        for i in range(0, self.k):\n",
      "            hash_ = hash(str(i) + val)\n",
      "            index = hash_ % self.m\n",
      "            indices.append(index)\n",
      "        return indices\n",
      "\n",
      "    \n",
      "    def add(self, val):\n",
      "        indices = self.getIndices(val)\n",
      "        for index in indices:\n",
      "            self.bitArray[index] = 1\n",
      "\n",
      "            \n",
      "    def check(self, val):\n",
      "        indices = self.getIndices(val)\n",
      "        for index in indices:\n",
      "            if self.bitArray[index] == 0:\n",
      "                return False\n",
      "        return True"
     ],
     "language": "python",
     "metadata": {},
     "outputs": [],
     "prompt_number": 4
    },
    {
     "cell_type": "markdown",
     "metadata": {},
     "source": [
      "A Bloom filter is stored in memory as an array of $m$ bits (`bitArray`, in our code), all of which are initially set to $0$. We use an integer list here for clarity. In a real implementation, each array index is only one bit. For readability, our below examples will use $m=16$. Typical real-world bloom filters use an $m$ value about $9.6$ times larger than the the expected number of elements in the set. This gives a false positive rate of about $1\\%$.\n",
      "\n",
      "The filter uses $k$ different hash functions. Often, these are just the same hash function with a different *salt*, a value prepended to the value to be hashed. In our implementation, the first hash function prepends `\"0\"`, the second prepends `\"1\"`, and so on.\n",
      "\n",
      "Each hash function\u2019s output must map to an index of the bit array. One way to do this is to ensure that the function\u2019s output is $\\log_2 m$ bits so that each hash value maps to a bit array index. If no available hash functions have our desired output size, we can use $hash \\bmod{m}$ to map the hash value to an array index:"
     ]
    },
    {
     "cell_type": "code",
     "collapsed": false,
     "input": [
      "hash(\"0\" + \"hopkins\")"
     ],
     "language": "python",
     "metadata": {},
     "outputs": [
      {
       "metadata": {},
       "output_type": "pyout",
       "prompt_number": 1,
       "text": [
        "4028870035670873848"
       ]
      }
     ],
     "prompt_number": 1
    },
    {
     "cell_type": "code",
     "collapsed": false,
     "input": [
      "filter = BloomFilter(m = 16, k = 3)\n",
      "hash(\"0\" + \"hopkins\") % filter.m"
     ],
     "language": "python",
     "metadata": {},
     "outputs": [
      {
       "metadata": {},
       "output_type": "pyout",
       "prompt_number": 5,
       "text": [
        "8"
       ]
      }
     ],
     "prompt_number": 5
    },
    {
     "cell_type": "markdown",
     "metadata": {},
     "source": [
      "The `getIndices` method, which does the hashing in our implementation, uses the mod solution. It returns a list of $k$ indices, each generated by a salted hash function:"
     ]
    },
    {
     "cell_type": "code",
     "collapsed": false,
     "input": [
      "filter.getIndices(\"hopkins\")"
     ],
     "language": "python",
     "metadata": {},
     "outputs": [
      {
       "metadata": {},
       "output_type": "pyout",
       "prompt_number": 6,
       "text": [
        "[8, 15, 6]"
       ]
      }
     ],
     "prompt_number": 6
    },
    {
     "cell_type": "markdown",
     "metadata": {},
     "source": [
      "When a value is added to a Bloom filter, the bit array index indicated by each hash value is set to $1$. Our code uses the `add` method, calling `getIndices` and updating `bitArray` accordingly."
     ]
    },
    {
     "cell_type": "code",
     "collapsed": false,
     "input": [
      "filter.getIndices(\"hopkins\")"
     ],
     "language": "python",
     "metadata": {},
     "outputs": [
      {
       "metadata": {},
       "output_type": "pyout",
       "prompt_number": 7,
       "text": [
        "[8, 15, 6]"
       ]
      }
     ],
     "prompt_number": 7
    },
    {
     "cell_type": "code",
     "collapsed": false,
     "input": [
      "filter.bitArray"
     ],
     "language": "python",
     "metadata": {},
     "outputs": [
      {
       "metadata": {},
       "output_type": "pyout",
       "prompt_number": 8,
       "text": [
        "[0, 0, 0, 0, 0, 0, 0, 0, 0, 0, 0, 0, 0, 0, 0, 0]"
       ]
      }
     ],
     "prompt_number": 8
    },
    {
     "cell_type": "code",
     "collapsed": false,
     "input": [
      "filter.add(\"hopkins\")\n",
      "filter.bitArray"
     ],
     "language": "python",
     "metadata": {},
     "outputs": [
      {
       "metadata": {},
       "output_type": "pyout",
       "prompt_number": 9,
       "text": [
        "[0, 0, 0, 0, 0, 0, 1, 0, 1, 0, 0, 0, 0, 0, 0, 1]"
       ]
      }
     ],
     "prompt_number": 9
    },
    {
     "cell_type": "markdown",
     "metadata": {},
     "source": [
      "To check if a value is possibly in the Bloom filter's set, we calculate its hash values. If the bit array indices of any of these values are $0$, then the value cannot be in the set:"
     ]
    },
    {
     "cell_type": "code",
     "collapsed": false,
     "input": [
      "for index in filter.getIndices(\"johns\"):\n",
      "    print filter.bitArray[index]"
     ],
     "language": "python",
     "metadata": {},
     "outputs": [
      {
       "output_type": "stream",
       "stream": "stdout",
       "text": [
        "1\n",
        "0\n",
        "0\n"
       ]
      }
     ],
     "prompt_number": 13
    },
    {
     "cell_type": "code",
     "collapsed": false,
     "input": [
      "filter.check(\"johns\")"
     ],
     "language": "python",
     "metadata": {},
     "outputs": [
      {
       "metadata": {},
       "output_type": "pyout",
       "prompt_number": 14,
       "text": [
        "False"
       ]
      }
     ],
     "prompt_number": 14
    },
    {
     "cell_type": "markdown",
     "metadata": {},
     "source": [
      "The possibility of a false positive remains (especially with an $m$ value as unrealistically small as $16$):"
     ]
    },
    {
     "cell_type": "code",
     "collapsed": false,
     "input": [
      "filter.getIndices(\"bootstrap\")"
     ],
     "language": "python",
     "metadata": {},
     "outputs": [
      {
       "metadata": {},
       "output_type": "pyout",
       "prompt_number": 15,
       "text": [
        "[8, 15, 6]"
       ]
      }
     ],
     "prompt_number": 15
    },
    {
     "cell_type": "code",
     "collapsed": false,
     "input": [
      "filter.check(\"bootstrap\")"
     ],
     "language": "python",
     "metadata": {},
     "outputs": [
      {
       "metadata": {},
       "output_type": "pyout",
       "prompt_number": 16,
       "text": [
        "True"
       ]
      }
     ],
     "prompt_number": 16
    },
    {
     "cell_type": "markdown",
     "metadata": {},
     "source": [
      "Using simple probability laws, we can estimate the probability of a false positive. We will assume that the hashing algorithm used is effectively random, which implies that the probability of a given $0$ bit being flipped to $1$ during a single bit assignment is $\\frac{1}{m}$. The probability of this bit remaining $0$ for a single index assignment is therefore $1 - \\frac{1}{m}$. By exponential decay, the probability that it will remain $0$ when a new value is added to the filter is $(1 - \\frac{1}{m})^k$. Again by exponential decay, the probability that it will remain $0$ after $n$ values are added is:\n",
      "\n",
      "$((1 - \\frac{1}{m})^k)^n = (1 - \\frac{1}{m})^{kn}$\n",
      "\n",
      "This implies that the probability of a bit being $1$ after $n$ values are added to the filter is:\n",
      "\n",
      "$1 - (1 - \\frac{1}{m})^{kn}$\n",
      "\n",
      "If we use five hash functions and two gigabytes of RAM for a Bloom filter and store a billion values in the set, the likelihood of a false positive is only:\n",
      "\n",
      "$(1 - (1 - \\frac{1}{m})^{kn})^k = (1 - (1 - \\frac{1}{16 \\times 10^9}) ^{5 \\times 10^9}) ^5 \\approx 0.0014 = 0.14\\%$\n",
      "\n",
      "It's clear why Bloom filters are used for massive-scale database software like Google BigTable, Apache Hadoop, and Apache Cassandra.\n",
      "\n",
      "---\n",
      "\n",
      "There are situations in which we can further improve our filter's performance. We may, for example, load a set of $k$-long strings into a Bloom filter and then search for these substrings in a larger string. Similarly, we may want to find if and where a genome sequence read differs from a reference genome. We could do this by storing all the reference's *$k$-mers* (sequences that are $k$ nucleotides long) in a set and check which $k$-mers in the sequencing reads don't exist in the reference genome.\n",
      "\n",
      "These problems are best treated with frame shifting; to search for 4-long substrings in the string `\"refrigerator\"`, you would check `\"refr\"`, then `\"efri\"`, then `\"frig\"`, and so on. No matter the value of $k$, each substring differs from the one before it by only a deletion at the front and an insertion at the back. They are very similar, yet our current Bloom filter implementation doesn't reuse any computation when calculating their hashes.\n",
      "\n",
      "A family of hash functions known as *rolling hashes* exist for this purpose. They can convert a substring's hash to that of its successor frame, such as `hash(\"refr\")` to `hash(\"efri\")`, in $O(1)$ time. We will use the rolling hash function traditionally associated with the [Rabin\u2013Karp algorithm](https://en.wikipedia.org/wiki/Rabin-Karp_algorithm), an efficient method of searching for substrings. The function uses some arbitrary constant $b$, typically a large prime. The hash value of a string of length $m$ is:\n",
      "\n",
      "$\\sum_{i=m-1}^{0} a_i \\times b^i$\n",
      "\n",
      "where $a_i$ is the ASCII value of the $i$th character of the string $a$. For example, the hash value of the string \"blue\" with $b = 73$ is:\n",
      "\n",
      "$(98 \\times 73^3) + (108 \\times 73^2) + (117 \\times 73^1) + (101 \\times 73^0)$\n",
      "\n",
      "A Python implementation is below. `prevFrame` and `prevHash` default to `None` in the case of the first frame, which must be computed from scratch."
     ]
    },
    {
     "cell_type": "code",
     "collapsed": false,
     "input": [
      "class RKHash:\n",
      "    \n",
      "    def __init__(self, b):\n",
      "        self.b = b\n",
      "        self.prevFrame = None\n",
      "        self.prevHash = None\n",
      "        \n",
      "        \n",
      "    def getHash(self, frame):\n",
      "    \n",
      "        m = len(frame)\n",
      "    \n",
      "        if self.prevFrame and self.prevHash:\n",
      "            tailHash = self.prevHash - (ord(self.prevFrame[0]) * self.b ** (m-1))\n",
      "            thisHash = (tailHash * self.b) + ord(frame[-1])\n",
      "            \n",
      "        else:\n",
      "            thisHash = 0\n",
      "            for i in range(0, m):\n",
      "                thisHash += ord(frame[i]) * (self.b ** (m - (i + 1)))\n",
      "                \n",
      "        self.prevFrame = frame\n",
      "        self.prevHash = thisHash\n",
      "        return thisHash\n",
      "    \n",
      "    \n",
      "hasher = RKHash(6)\n",
      "firstHash = hasher.getHash(\"tomat\")\n",
      "print firstHash\n",
      "nextHash = hasher.getHash(\"omato\")\n",
      "print nextHash"
     ],
     "language": "python",
     "metadata": {},
     "outputs": [
      {
       "output_type": "stream",
       "stream": "stdout",
       "text": [
        "178934\n",
        "171699\n"
       ]
      }
     ],
     "prompt_number": 36
    },
    {
     "cell_type": "markdown",
     "metadata": {},
     "source": [
      "The `else` clause in `getHash` simply implements the summation equation given above. However, it is only used for the first frame.\n",
      "\n",
      "The `if` clause converts `prevHash`, the previous frame's hash, to `thisHash`, the current frame's hash, in three simple constant-time operations. We will consider a `prevFrame` of length 4, composed of characters $a_0$ through $a_3$, as an example. Initially:\n",
      "\n",
      "$prevHash = (a_0 \\times b^3) + (a_1 \\times b^2) + (a_2 \\times b^1) + (a_3 \\times b^0)$\n",
      "\n",
      "We then subtract $a_0 \\times b^3$, obtaining the hash of `prevHash`'s tail (tail refers to all but the first character; the tail of `\"couch\"` is `\"ouch\"`):\n",
      "\n",
      "$(a_1 \\times b^2) + (a_2 \\times b^1) + (a_3 \\times b^0)$\n",
      "\n",
      "We then multiply by $b$:\n",
      "\n",
      "$(a_1 \\times b^3) + (a_2 \\times b^2) + (a_3 \\times b^1)$\n",
      "\n",
      "And add $a_4 * b^0$, obtaining `thisHash`:\n",
      "\n",
      "$(a_1 \\times b^3) + (a_2 \\times b^2) + (a_3 \\times b^1) + (a_4 \\times b^0) = thisHash$\n",
      "\n",
      "Regardless of the length of the substrings processed, the algorithm uses only these three $O(1)$ arithmetic operations.\n",
      "\n",
      "We omitted exception statements checking soundness and sanity, so remember that this function assumes that `len(frame) == len(prevFrame)`, that `prevFrame[1:] == frame[:-1]`, and that `b != 0`.\n",
      "\n",
      "Below is a modified version of our above Bloom filter implementation that uses Rabin-Karp hash functions:"
     ]
    },
    {
     "cell_type": "code",
     "collapsed": false,
     "input": [
      "import random\n",
      "\n",
      "class BloomFilter:\n",
      "\n",
      "    def __init__(self, m, k):\n",
      "        self.m = m\n",
      "        self.k = k\n",
      "        self.bitArray = [0 for _ in range(0, m)]\n",
      "        \n",
      "        # random.sample(population, x) a list of x unique\n",
      "        # elements from the supplied population list\n",
      "        randBs = random.sample(range(1, 200), k)\n",
      "        self.hashFuncs = [RKHash(b) for b in randBs]\n",
      "        \n",
      "\n",
      "    def getIndices(self, val):\n",
      "        hashes = [f.getHash(val) for f in self.hashFuncs]\n",
      "        return map((lambda hash_: hash_ % self.m), hashes)\n",
      "            \n",
      "\n",
      "    \n",
      "    def add(self, val):\n",
      "        indices = self.getIndices(val)\n",
      "        for index in indices:\n",
      "            self.bitArray[index] = 1\n",
      "\n",
      "            \n",
      "    def check(self, val):\n",
      "        indices = self.getIndices(val)\n",
      "        for index in indices:\n",
      "            if self.bitArray[index] == 0:\n",
      "                return False\n",
      "        return True\n",
      "    \n",
      "bloomFilter = BloomFilter(1024, 3)\n",
      "print \"randomly selected b's for Rabin-Karp hash functions:\", [f.b for f in bloomFilter.hashFuncs]\n",
      "print \"indices returned for the string \\\"johns\\\"\", bloomFilter.getIndices(\"johns\")\n",
      "bloomFilter.add(\"johns\")"
     ],
     "language": "python",
     "metadata": {},
     "outputs": [
      {
       "output_type": "stream",
       "stream": "stdout",
       "text": [
        "randomly selected b's for Rabin-Karp hash functions: [85, 105, 145]\n",
        "indices returned for the string \"johns\" [558, 794, 978]\n"
       ]
      }
     ],
     "prompt_number": 48
    },
    {
     "cell_type": "markdown",
     "metadata": {},
     "source": [
      "The value of $b$ for each Rabin-Karp hashing algorithm is unique and pseudorandomly selected."
     ]
    },
    {
     "cell_type": "code",
     "collapsed": false,
     "input": [],
     "language": "python",
     "metadata": {},
     "outputs": []
    }
   ],
   "metadata": {}
  }
 ]
}