{
 "metadata": {
  "name": "",
  "signature": "sha256:13e6c874735130169f8f9f4f2fe9399934f5f566689a02f68adac4be683bc310"
 },
 "nbformat": 3,
 "nbformat_minor": 0,
 "worksheets": [
  {
   "cells": [
    {
     "cell_type": "markdown",
     "metadata": {},
     "source": [
      "As you probably know, disk access is painfully slow and should be avoided at all costs. Often, programs use a large set, a group of unique values, that cannot fit in RAM and must be stored on disk. In a simple set implementation, we must access the full set data in order to add a value to the set (regardless of whether the value is already a member) and to test whether a value is a member of a set.\n",
      "\n",
      "For many use cases, it would be very useful to have a smaller data structure stored in memory that estimates whether a value is a member of our set. Because this structure would be much smaller than the full set, thereby storing much less information, it could not give a definitive answer. However, instead of returning \u201cTrue\u201d or \u201cFalse\u201d when asked if a set contains a value, our \u201cfirst-pass filter\u201d could return \u201cPossibly\u201d or \u201cFalse\u201d. When it returns \u201cPossibly\u201d, the full set must then be searched to determine whether the value is actually a member. When it returns \u201cFalse\u201d, though, we do not need to access disk.\n",
      "\n",
      "A simple solution to this problem would be storing each value\u2019s [hash](https://en.wikipedia.org/wiki/Hash_function) in a list. Hash functions are many-to-one; multiple values can have the same hash, but each value has only one valid hash. If a value\u2019s hash exists in our list, it might be in the set, or the set might just contain another value with the same hash. If the value\u2019s hash isn\u2019t in the list, the value definitely isn\u2019t in the set.\n",
      "\n",
      "Our first-pass list filter is a decent solution, but it isn\u2019t quite ideal. Ignoring hash collisions (two values having the same hash), it grows in proportion to the set, and can therefore become unwieldy for really big sets. Assuming we don\u2019t want to use extra memory to make a hash table of the hashes, we need to spend log(n) time finding a hash if the list is sorted, and linear time if it isn\u2019t.\n",
      "\n",
      "Bloom filters, an alternative, offer constant space and constant lookup time. While the rate of false positives (\u201cProbably\u201d responses for values not in the set) increases modestly as the set grows, relatively small Bloom filters have low (~1%) false positive rates for very large data sets.\n",
      "\n",
      "Below is a simple implementation of a Bloom filter in Python."
     ]
    },
    {
     "cell_type": "code",
     "collapsed": false,
     "input": [
      "class BloomFilter:\n",
      "\n",
      "    def __init__(self, m, k):\n",
      "        self.m = m\n",
      "        self.k = k\n",
      "        self.bitArray = [0 for _ in range(0, m)]\n",
      "\n",
      "    def getIndices(self, val):\n",
      "        indices = []\n",
      "        for i in range(0, self.k):\n",
      "            thisHash = hash(str(i) + val)\n",
      "            index = thisHash % self.m\n",
      "            indices.append(index)\n",
      "        return indices\n",
      "\n",
      "    def add(self, val):\n",
      "        indices = self.getIndices(val)\n",
      "        for index in indices:\n",
      "            self.bitArray[index] = 1\n",
      "\n",
      "    def check(self, val):\n",
      "        indices = self.getIndices(val)\n",
      "        for index in indices:\n",
      "            if self.bitArray[index] == 0:\n",
      "                return False\n",
      "        return True"
     ],
     "language": "python",
     "metadata": {},
     "outputs": [],
     "prompt_number": 4
    },
    {
     "cell_type": "markdown",
     "metadata": {},
     "source": [
      "A Bloom filter is stored in memory as an array of $m$ bits (`bitArray`, in our code), all of which are initially set to $0$. We use an integer list here for clarity. In a real implementation, each array index is only one bit. For readability, our below examples will use $m=16$. Typical real-world bloom filters use an $m$ value about $9.6$ times larger than the the expected number of elements in the set. This gives a false positive rate of about $1\\%$.\n",
      "\n",
      "The filter uses $k$ different hash functions. Often, these are just the same hash function with a different *salt*, a value prepended to the value to be hashed. In our implementation, the first hash function prepends `\"0\"`, the second prepends `\"1\"`, and so on.\n",
      "\n",
      "Each hash function\u2019s output must map to an index of the bit array. One way to do this is to ensure that the function\u2019s output is $\\log_2 m$ bits so that each hash value maps to a bit array index. If no available hash functions have our desired output size, we can use $hash \\bmod{m}$ to map the hash value to an array index:"
     ]
    },
    {
     "cell_type": "code",
     "collapsed": false,
     "input": [
      "hash(\"0\" + \"hopkins\")"
     ],
     "language": "python",
     "metadata": {},
     "outputs": [
      {
       "metadata": {},
       "output_type": "pyout",
       "prompt_number": 1,
       "text": [
        "4028870035670873848"
       ]
      }
     ],
     "prompt_number": 1
    },
    {
     "cell_type": "code",
     "collapsed": false,
     "input": [
      "filter = BloomFilter(m = 16, k = 3)\n",
      "hash(\"0\" + \"hopkins\") % filter.m"
     ],
     "language": "python",
     "metadata": {},
     "outputs": [
      {
       "metadata": {},
       "output_type": "pyout",
       "prompt_number": 5,
       "text": [
        "8"
       ]
      }
     ],
     "prompt_number": 5
    },
    {
     "cell_type": "markdown",
     "metadata": {},
     "source": [
      "The `getIndices` method, which does the hashing in our implementation, uses the mod solution. It returns a list of $k$ indices, each generated by a salted hash function:"
     ]
    },
    {
     "cell_type": "code",
     "collapsed": false,
     "input": [
      "filter.getIndices(\"hopkins\")"
     ],
     "language": "python",
     "metadata": {},
     "outputs": [
      {
       "metadata": {},
       "output_type": "pyout",
       "prompt_number": 6,
       "text": [
        "[8, 15, 6]"
       ]
      }
     ],
     "prompt_number": 6
    },
    {
     "cell_type": "markdown",
     "metadata": {},
     "source": [
      "When a value is added to a Bloom filter, the bit array index indicated by each hash value is set to $1$. Our code uses the `add` method, calling `getIndices` and updating `bitArray` accordingly."
     ]
    },
    {
     "cell_type": "code",
     "collapsed": false,
     "input": [
      "filter.getIndices(\"hopkins\")"
     ],
     "language": "python",
     "metadata": {},
     "outputs": [
      {
       "metadata": {},
       "output_type": "pyout",
       "prompt_number": 7,
       "text": [
        "[8, 15, 6]"
       ]
      }
     ],
     "prompt_number": 7
    },
    {
     "cell_type": "code",
     "collapsed": false,
     "input": [
      "filter.bitArray"
     ],
     "language": "python",
     "metadata": {},
     "outputs": [
      {
       "metadata": {},
       "output_type": "pyout",
       "prompt_number": 8,
       "text": [
        "[0, 0, 0, 0, 0, 0, 0, 0, 0, 0, 0, 0, 0, 0, 0, 0]"
       ]
      }
     ],
     "prompt_number": 8
    },
    {
     "cell_type": "code",
     "collapsed": false,
     "input": [
      "filter.add(\"hopkins\")\n",
      "filter.bitArray"
     ],
     "language": "python",
     "metadata": {},
     "outputs": [
      {
       "metadata": {},
       "output_type": "pyout",
       "prompt_number": 9,
       "text": [
        "[0, 0, 0, 0, 0, 0, 1, 0, 1, 0, 0, 0, 0, 0, 0, 1]"
       ]
      }
     ],
     "prompt_number": 9
    },
    {
     "cell_type": "markdown",
     "metadata": {},
     "source": [
      "To check if a value is possibly in the Bloom filter's set, we calculate its hash values. If the bit array indices of any of these values are $0$, then the value cannot be in the set:"
     ]
    },
    {
     "cell_type": "code",
     "collapsed": false,
     "input": [
      "for index in filter.getIndices(\"johns\"):\n",
      "    print filter.bitArray[index]"
     ],
     "language": "python",
     "metadata": {},
     "outputs": [
      {
       "output_type": "stream",
       "stream": "stdout",
       "text": [
        "1\n",
        "0\n",
        "0\n"
       ]
      }
     ],
     "prompt_number": 13
    },
    {
     "cell_type": "code",
     "collapsed": false,
     "input": [
      "filter.check(\"johns\")"
     ],
     "language": "python",
     "metadata": {},
     "outputs": [
      {
       "metadata": {},
       "output_type": "pyout",
       "prompt_number": 14,
       "text": [
        "False"
       ]
      }
     ],
     "prompt_number": 14
    },
    {
     "cell_type": "markdown",
     "metadata": {},
     "source": [
      "The possibility of a false positive remains (especially with an $m$ value as unrealistically small as $16$):"
     ]
    },
    {
     "cell_type": "code",
     "collapsed": false,
     "input": [
      "filter.getIndices(\"bootstrap\")"
     ],
     "language": "python",
     "metadata": {},
     "outputs": [
      {
       "metadata": {},
       "output_type": "pyout",
       "prompt_number": 15,
       "text": [
        "[8, 15, 6]"
       ]
      }
     ],
     "prompt_number": 15
    },
    {
     "cell_type": "code",
     "collapsed": false,
     "input": [
      "filter.check(\"bootstrap\")"
     ],
     "language": "python",
     "metadata": {},
     "outputs": [
      {
       "metadata": {},
       "output_type": "pyout",
       "prompt_number": 16,
       "text": [
        "True"
       ]
      }
     ],
     "prompt_number": 16
    },
    {
     "cell_type": "markdown",
     "metadata": {},
     "source": [
      "Using simple probability laws, we can estimate the probability of a false positive. We will assume that the hashing algorithm used is effectively random. The probability of a bit remaining $0$ for a single index assignment is $1 - \\frac{1}{m}$. The probability that it will remain $0$ when a new value is added to the set is therefore $(1 - \\frac{1}{m})^k$. The probability that it will remain $0$ after $n$ values are added is:\n",
      "\n",
      "$((1 - \\frac{1}{m})^k)^n = (1 - \\frac{1}{m})^{kn}$\n",
      "\n",
      "This implies that the probability of a bit being $1$ is:\n",
      "\n",
      "$1 - (1 - \\frac{1}{m})^{kn}$\n",
      "\n",
      "If we use five hash functions and two gigabytes of RAM for a Bloom filter and store a billion values in the set, the likelihood of a false positive is only:\n",
      "\n",
      "$(1 - (1 - \\frac{1}{m})^{kn})^k = (1 - (1 - \\frac{1}{16 \\times 10^9}) ^{5 \\times 10^9}) ^5 \\approx 0.0014 = 0.14\\%$\n",
      "\n",
      "It's clear why Bloom filters are used for massive-scale database software like Google BigTable, Apache Hadoop, and Apache Cassandra.\n",
      "\n",
      "There is, however, room for improvement. Notice that we're hashing $k$ nearly identical values. Using cryptographic hash functions, there would be no way to improve upon this, as all outputs are effectively random. Using a *rolling hash function*, we can reuse some computations when hashing similar values.\n",
      "\n",
      "We will use the  rolling hash function traditionally associated with the [Rabin\u2013Karp algorithm](https://en.wikipedia.org/wiki/Rabin-Karp_algorithm), an efficient method of searching for substrings. The function uses some arbitrary constant $b$, typically a large prime. The hash value of a string of length $m$ is:\n",
      "\n",
      "$\\sum_{i=0}^{m-1} a_i \\times b^i$\n",
      "\n",
      "where $a_i$ is the ASCII value of the $i$th character of the string $a$. For example, the hash value of the string \"blue\" with $b = 73$ is:\n",
      "\n",
      "$(98 \\times 73^0) + (108 \\times 73^1) + (117 \\times 73^2) + (101 \\times 73^3)$\n",
      "\n",
      "Given the hash value of a string, we can find the hash value of a string with a different prefix (e.g. \"glue\" from \"blue\") in three computationally cheap steps:\n",
      "* Subtract the hash value of the removed prefix from the starting hash (e.g. `suffixHash = rollHash(\"b\") - rollHash(\"blue\")`).\n",
      "* Where `n` is the length of the new string minus the length of the startig string, multiply the suffix hash (computed above) by $b^n$ (e.g. `multSuffHash = suffixHash * (b ** (len(\"glue\") - len(\"blue\"))`.\n",
      "* Add the hash of the new prefix to the above-computed value (e.g. `return multSuffHash + rollHash(\"h\")`.\n",
      "\n",
      "Below is an implementation of a simple Rabin-Karp-style rolling hash function:"
     ]
    },
    {
     "cell_type": "code",
     "collapsed": false,
     "input": [
      "class RollingHash():\n",
      "    \n",
      "    def __init__(self, base, str):\n",
      "        self.base = base\n",
      "        self.str = str\n",
      "        self.hash = sum([ord(str[i]) * (base ** i) for i in range(0, len(str))])\n",
      "        \n",
      "    \n",
      "    # prefix is the prefix of the new string\n",
      "    # diff = len(new string) - len(old string)\n",
      "    def rollingHash(self, prefix, diff):\n",
      "        \n",
      "        for i in range(0, diff + len(prefix)):\n",
      "            self.hash -= ord(self.str[i]) * (self.base ** i)\n",
      "        \n",
      "        self.hash *= self.base ** diff\n",
      "        \n",
      "        for i in range(0, len(prefix)):\n",
      "            self.hash += ord(prefix[i]) * (self.base ** i)\n",
      "        \n",
      "        self.str = prefix + self.str[len(prefix) - diff:]"
     ],
     "language": "python",
     "metadata": {},
     "outputs": [],
     "prompt_number": 16
    },
    {
     "cell_type": "markdown",
     "metadata": {},
     "source": [
      "We take a performance hit by allowing conversion of hash values of strings with different lengths, and by subsequently using Python's linked list string implementation, where `len()` takes $O(n)$ time. However, optimizing would make the code less readable and is outside the scope of this guide."
     ]
    },
    {
     "cell_type": "code",
     "collapsed": false,
     "input": [
      "hasher = RollingHash(73, \"blue\")\n",
      "print hasher.hash\n",
      "hasher.rollingHash(\"g\", 0)\n",
      "print hasher.hash"
     ],
     "language": "python",
     "metadata": {},
     "outputs": [
      {
       "output_type": "stream",
       "stream": "stdout",
       "text": [
        "39922192\n",
        "39922197\n"
       ]
      }
     ],
     "prompt_number": 18
    },
    {
     "cell_type": "code",
     "collapsed": false,
     "input": [],
     "language": "python",
     "metadata": {},
     "outputs": []
    }
   ],
   "metadata": {}
  }
 ]
}
