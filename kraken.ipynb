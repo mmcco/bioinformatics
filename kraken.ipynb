{
 "metadata": {
  "name": "",
  "signature": "sha256:e19a99af59369528ffc5096288609c3f388b960a9f7ab328cef076a89f8a543e"
 },
 "nbformat": 3,
 "nbformat_minor": 0,
 "worksheets": [
  {
   "cells": [
    {
     "cell_type": "markdown",
     "metadata": {},
     "source": [
      "Kraken is a metagenomic classification algorithm. This means that it inspects sequence reads from a sample presumably containing multiple species and attempts to identify the species present. These algorithms are most useful for microbiologists trying to identify bacteria species in environments such as a body of water or an animal's gut. Kraken stores a database of all $k$-mers from 2,256 reference genomes. The reference genomes' associated species are organized in a *phylogenetic tree*, where each species' node is attached to that of its most immediate ancestor:"
     ]
    },
    {
     "cell_type": "code",
     "collapsed": false,
     "input": [],
     "language": "python",
     "metadata": {},
     "outputs": []
    },
    {
     "cell_type": "code",
     "collapsed": false,
     "input": [
      "class PhyloTree:\n",
      "    \n",
      "    def __init__(self, root):\n",
      "        self.root = root\n",
      "        # each tree node is stored as a tuple: (species, descendant)\n",
      "    \n",
      "\n",
      "def getClassTree()"
     ],
     "language": "python",
     "metadata": {},
     "outputs": []
    }
   ],
   "metadata": {}
  }
 ]
}
