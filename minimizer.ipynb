{
 "metadata": {
  "name": "",
  "signature": "sha256:4fffe9227df43ada98923abef3bf3a25d74df2e0e725b33d7c650c456584b833"
 },
 "nbformat": 3,
 "nbformat_minor": 0,
 "worksheets": [
  {
   "cells": [
    {
     "cell_type": "markdown",
     "metadata": {},
     "source": [
      "A string's *$k$-mers* are simply all the $k$-character-long substrings that it contains:"
     ]
    },
    {
     "cell_type": "code",
     "collapsed": false,
     "input": [
      "def justKmers(k, string):\n",
      "    return [string[i:i+k] for i in range(0, len(string) - (k - 1))]\n",
      "\n",
      "print justKmers(3, \"tomato\")"
     ],
     "language": "python",
     "metadata": {},
     "outputs": [
      {
       "output_type": "stream",
       "stream": "stdout",
       "text": [
        "['tom', 'oma', 'mat', 'ato']\n"
       ]
      }
     ],
     "prompt_number": 19
    },
    {
     "cell_type": "markdown",
     "metadata": {},
     "source": [
      "Traditional algorithms used to find matching substrings among strings first generate a sorted list of each strings $k$-mers. Each $k$-mer $s$ is stored as a tuple $(s, i, p)$ with the ID of the string it came from ($x$) and its offset in that string ($p$):"
     ]
    },
    {
     "cell_type": "code",
     "collapsed": false,
     "input": [
      "def kmers(k, x, string):\n",
      "    return [(string[i:i+k], x, i) for i in range(0, len(string) - (k - 1))]\n",
      "\n",
      "print kmers(3, 1, \"tomato\")"
     ],
     "language": "python",
     "metadata": {},
     "outputs": [
      {
       "output_type": "stream",
       "stream": "stdout",
       "text": [
        "[('tom', 1, 0), ('oma', 1, 1), ('mat', 1, 2), ('ato', 1, 3)]\n"
       ]
      }
     ],
     "prompt_number": 18
    },
    {
     "cell_type": "code",
     "collapsed": false,
     "input": [
      "from operator import itemgetter\n",
      "\n",
      "\n",
      "def getMin(kmers):\n",
      "    return sorted(kmers, key=itemgetter(0,2))[0]\n",
      "\n",
      "\n",
      "class Minner():\n",
      "    \n",
      "    def __init__(self, k, w):\n",
      "        self.x = 0\n",
      "        self.k = k\n",
      "        self.w = w\n",
      "        self.minimizers = []\n",
      "\n",
      "        \n",
      "    def minimize(self, string):\n",
      "    \n",
      "        for i in range(0, len(string) - (self.k + self.w - 2)):\n",
      "            \n",
      "            print \"string[\" + str(i) + \":\" + str(i + self.k + self.w - 1) + \"] = \" + '\"' + string[i:i + self.k + self.w - 1] + '\"'\n",
      "            print \"kmers:\", justKmers(3, string[i:i + self.k + self.w - 1])\n",
      "            print \"\\n\"\n",
      "            \n",
      "            minKmer = getMin(kmers(self.k, self.x, string[i:i + self.k + self.w - 1]))\n",
      "            # adjust offset\n",
      "            minKmer = (minKmer[0], minKmer[1], minKmer[2] + i)\n",
      "            if minKmer not in self.minimizers:\n",
      "                self.minimizers.append(minKmer)\n",
      "        \n",
      "        self.minimizers.sort()\n",
      "        self.x += 1\n",
      "    \n",
      "\n",
      "minner = Minner(3, 3)\n",
      "minner.minimize(\"tomato-soup\")\n",
      "print '\\n\\n', minner.minimizers"
     ],
     "language": "python",
     "metadata": {},
     "outputs": [
      {
       "output_type": "stream",
       "stream": "stdout",
       "text": [
        "string[0:5] = \"tomat\"\n",
        "kmers: ['tom', 'oma', 'mat']\n",
        "\n",
        "\n",
        "string[1:6] = \"omato\"\n",
        "kmers: ['oma', 'mat', 'ato']\n",
        "\n",
        "\n",
        "string[2:7] = \"mato-\"\n",
        "kmers: ['mat', 'ato', 'to-']\n",
        "\n",
        "\n",
        "string[3:8] = \"ato-s\"\n",
        "kmers: ['ato', 'to-', 'o-s']\n",
        "\n",
        "\n",
        "string[4:9] = \"to-so\"\n",
        "kmers: ['to-', 'o-s', '-so']\n",
        "\n",
        "\n",
        "string[5:10] = \"o-sou\"\n",
        "kmers: ['o-s', '-so', 'sou']\n",
        "\n",
        "\n",
        "string[6:11] = \"-soup\"\n",
        "kmers: ['-so', 'sou', 'oup']\n",
        "\n",
        "\n",
        "\n",
        "\n",
        "[('-so', 0, 6), ('ato', 0, 3), ('mat', 0, 2)]\n"
       ]
      }
     ],
     "prompt_number": 48
    },
    {
     "cell_type": "code",
     "collapsed": false,
     "input": [
      "def endMinimize(k, w, string):\n",
      "    \n",
      "    minimizers = []\n",
      "    \n",
      "    print \"\\nFRONT END MINIMIZERS\\n\"\n",
      "    \n",
      "    for w_ in range(1, w):\n",
      "        print \"kmers:\", kmers(k, string[0:k + w_ - 1])\n",
      "        print \"minimizer:\", getMin(kmers(k, string[0:k + w_ - 1]))\n",
      "        print '\\n'\n",
      "        minimizers.append(getMin(kmers(k, string[0:k + w_ - 1])))\n",
      "        \n",
      "    print \"\\nINTERIOR MINIMIZERS\\n\"\n",
      "    \n",
      "    for i in range(0, len(string) - (k + w - 2)):\n",
      "        print \"kmers:\", kmers(3, string[i:i + k + w - 1])\n",
      "        print \"minimizer:\", getMin(kmers(k, string[i:i + k + w - 1]))\n",
      "        print '\\n'\n",
      "        minimizers.append(getMin(kmers(k, string[i:i + k + w - 1])))\n",
      "\n",
      "    print \"\\nBACK END MINIMIZERS\\n\"\n",
      "    \n",
      "    for w_ in reversed(range(1, w)):\n",
      "        print \"kmers:\", kmers(3, string[len(string) - (k + w_ - 1):])\n",
      "        print \"minimizer:\", getMin(kmers(k, string[i:i + k + w - 1]))\n",
      "        print '\\n'\n",
      "        minimizers.append(getMin(kmers(k, string[i:i + k + w - 1])))\n",
      "        \n",
      "    print \"\\nEND\\n\"\n",
      "    \n",
      "    return minimizers\n",
      "\n",
      "    \n",
      "print \"minimizers:\", endMinimize(3, 3, \"tomato-soup\")"
     ],
     "language": "python",
     "metadata": {},
     "outputs": [
      {
       "output_type": "stream",
       "stream": "stdout",
       "text": [
        "minimizers: \n",
        "FRONT END MINIMIZERS\n",
        "\n",
        "kmers: ['tom']\n",
        "minimizer: tom\n",
        "\n",
        "\n",
        "kmers: ['tom', 'oma']\n",
        "minimizer: oma\n",
        "\n",
        "\n",
        "\n",
        "INTERIOR MINIMIZERS\n",
        "\n",
        "kmers: ['tom', 'oma', 'mat']\n",
        "minimizer: mat\n",
        "\n",
        "\n",
        "kmers: ['oma', 'mat', 'ato']\n",
        "minimizer: ato\n",
        "\n",
        "\n",
        "kmers: ['mat', 'ato', 'to-']\n",
        "minimizer: ato\n",
        "\n",
        "\n",
        "kmers: ['ato', 'to-', 'o-s']\n",
        "minimizer: ato\n",
        "\n",
        "\n",
        "kmers: ['to-', 'o-s', '-so']\n",
        "minimizer: -so\n",
        "\n",
        "\n",
        "kmers: ['o-s', '-so', 'sou']\n",
        "minimizer: -so\n",
        "\n",
        "\n",
        "kmers: ['-so', 'sou', 'oup']\n",
        "minimizer: -so\n",
        "\n",
        "\n",
        "\n",
        "BACK END MINIMIZERS\n",
        "\n",
        "kmers: ['sou', 'oup']\n",
        "minimizer: -so\n",
        "\n",
        "\n",
        "kmers: ['oup']\n",
        "minimizer: -so\n",
        "\n",
        "\n",
        "\n",
        "END\n",
        "\n",
        "['tom', 'oma', 'mat', 'ato', 'ato', 'ato', '-so', '-so', '-so', '-so', '-so']\n"
       ]
      }
     ],
     "prompt_number": 41
    },
    {
     "cell_type": "code",
     "collapsed": false,
     "input": [
      "class SubStr():\n",
      "        \n",
      "    def __getScore__(self, isOdds, chars):\n",
      "        \n",
      "        scoreKey = dict()\n",
      "        \n",
      "        if isOdds:\n",
      "            scoreKey['c'] = 0\n",
      "            scoreKey['a'] = 1\n",
      "            scoreKey['t'] = 2\n",
      "            scoreKey['g'] = 3\n",
      "        else:\n",
      "            scoreKey['g'] = 0\n",
      "            scoreKey['t'] = 1\n",
      "            scoreKey['a'] = 2\n",
      "            scoreKey['c'] = 3\n",
      "            \n",
      "        return sum(map(lambda char: scoreKey[char], chars))\n",
      "    \n",
      "    \n",
      "    def __init__(self, substr):\n",
      "        self.substr = substr\n",
      "        self.diversity = len(set(substr[:4]))\n",
      "        self.score = self.__getScore__(True, substr[::2]) + self.__getScore__(False, substr[1::2])\n",
      "        \n",
      "    \n",
      "    def __lt__(self, otherSubstr):\n",
      "        return otherSubstr.score > self.score or (otherSubstr.score == self.score and otherSubstr.diversity < self.diversity)\n",
      "    \n",
      "    \n",
      "substr = SubStr(\"gcctatac\")\n",
      "other = SubStr(\"aaatattc\")\n",
      "print substr.diversity\n",
      "print substr.score\n",
      "\n",
      "print map(lambda x: x.substr, sorted([substr, other]))"
     ],
     "language": "python",
     "metadata": {},
     "outputs": [
      {
       "output_type": "stream",
       "stream": "stdout",
       "text": [
        "3\n",
        "13\n",
        "['aaatattc', 'gcctatac']\n"
       ]
      }
     ],
     "prompt_number": 12
    },
    {
     "cell_type": "code",
     "collapsed": false,
     "input": [],
     "language": "python",
     "metadata": {},
     "outputs": []
    }
   ],
   "metadata": {}
  }
 ]
}