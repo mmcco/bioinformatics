{
 "metadata": {
  "name": "",
  "signature": "sha256:236796c415ee068a29f293b98099b3d39878762a7d51f75cc110e3a18224fcc4"
 },
 "nbformat": 3,
 "nbformat_minor": 0,
 "worksheets": [
  {
   "cells": [
    {
     "cell_type": "markdown",
     "metadata": {},
     "source": [
      "A string's *$k$-mers* are simply all the $k$-character-long substrings that it contains:"
     ]
    },
    {
     "cell_type": "code",
     "collapsed": false,
     "input": [
      "def justKmers(k, string):\n",
      "    return [string[i:i+k] for i in range(0, len(string) - (k - 1))]\n",
      "\n",
      "print justKmers(3, \"tomato\")"
     ],
     "language": "python",
     "metadata": {},
     "outputs": [
      {
       "output_type": "stream",
       "stream": "stdout",
       "text": [
        "['tom', 'oma', 'mat', 'ato']\n"
       ]
      }
     ],
     "prompt_number": 19
    },
    {
     "cell_type": "markdown",
     "metadata": {},
     "source": [
      "Traditional algorithms used to find matching substrings among strings first generate a sorted list of each strings $k$-mers. Each $k$-mer $s$ is stored as a tuple $(s, i, p)$ with the ID of the string it came from ($x$) and its offset in that string ($p$):"
     ]
    },
    {
     "cell_type": "code",
     "collapsed": false,
     "input": [
      "def kmers(k, x, string):\n",
      "    return [(string[i:i+k], x, i) for i in range(0, len(string) - (k - 1))]\n",
      "\n",
      "print kmers(3, 1, \"tomato\")"
     ],
     "language": "python",
     "metadata": {},
     "outputs": [
      {
       "output_type": "stream",
       "stream": "stdout",
       "text": [
        "[('tom', 1, 0), ('oma', 1, 1), ('mat', 1, 2), ('ato', 1, 3)]\n"
       ]
      }
     ],
     "prompt_number": 18
    },
    {
     "cell_type": "markdown",
     "metadata": {},
     "source": [
      "$k$-mers are, however, very memory-expensive. Every additional character added to a string demands a new $k$-mer tuple. Minimizers are modified $k$-mer sets that are smaller in memory. They choose one representative $k$-mer, the window's *minimizer*, out of each window of $w$ consecutive $k$-mers. Ideally, the minimizer is the rarest $k$-mer in the window, and therefore the most unique identifier, preventing false positives. For further explanation, see *Reducing storage requirements for biological sequence comparison* by Yorke et al."
     ]
    },
    {
     "cell_type": "code",
     "collapsed": false,
     "input": [
      "from operator import itemgetter\n",
      "\n",
      "\n",
      "class Minner:\n",
      "    \n",
      "    def __init__(self, k, w):\n",
      "        \n",
      "        self.x = 0\n",
      "        self.k = k\n",
      "        self.w = w\n",
      "        self.minimizers = []\n",
      "        \n",
      "        \n",
      "    def __getMin__(self, kmers):\n",
      "        # the named \"key\" argument specifies to sort based on s primarily and p secondarily (not x)\n",
      "        return sorted(kmers, key=itemgetter(0,2))[0]\n",
      "\n",
      "        \n",
      "    def minimize(self, string):\n",
      "    \n",
      "        for i in range(0, len(string) - (self.k + self.w - 2)):\n",
      "            \n",
      "            # print statements to make it clearer what's happening\n",
      "            #print \"string[\" + str(i) + \":\" + str(i + self.k + self.w - 1) + \"] = \" + '\"' + string[i:i + self.k + self.w - 1] + '\"'\n",
      "            #print \"kmers:\", justKmers(3, string[i:i + self.k + self.w - 1])\n",
      "            #print \"\\n\"\n",
      "            \n",
      "            minKmer = self.__getMin__(kmers(self.k, self.x, string[i:i + self.k + self.w - 1]))\n",
      "            # adjust offset\n",
      "            minKmer = (minKmer[0], minKmer[1], minKmer[2] + i)\n",
      "            if minKmer not in self.minimizers:\n",
      "                self.minimizers.append(minKmer)\n",
      "        \n",
      "        self.minimizers.sort()\n",
      "        self.x += 1\n",
      "    \n",
      "\n",
      "minner = Minner(3, 3)\n",
      "minner.minimize(\"tomato-soup\")\n",
      "print '\\n', 'minimizers:', minner.minimizers"
     ],
     "language": "python",
     "metadata": {},
     "outputs": [
      {
       "output_type": "stream",
       "stream": "stdout",
       "text": [
        "\n",
        "minimizers: [('-so', 0, 6), ('ato', 0, 3), ('mat', 0, 2)]\n"
       ]
      }
     ],
     "prompt_number": 69
    },
    {
     "cell_type": "markdown",
     "metadata": {},
     "source": [
      "The logic used for selecting the minimizer, `__getMin__()`, is disconcertingly simple. We want to select the most unique $k$-mer, but we are currently selecting based solely on alphabetical sorting.\n",
      "\n",
      "Because minimizers are often used in genome sequence analysis, techniques have been developed to best select rare $k$-mers that are not part of repeats. One such technique is to give each $k$-mer a numerical score. The odd nucleotides contribute 0 for C, 4 for A, 4 for T, and 5 for G. For even nucleotides, the nucleotide values are reversed (5 for C, etc.). The $k$-mer with the lowest sum is selected as the minimizer. This promotes strands that contain the rarer nucleotides C and G, which contribute an average of 2.5 compared to A and T's 4. It does this while also discouraging simple repeats like \"CCCCCC\", which are difficult to align and prone to sequencing errors, with the score reversal technique.\n",
      "\n",
      "Another basic heuristic is to prefer sequences with more diversity by selecting sequences with more nucleotide types in their first four nucleotides. For example, \"ATCA\" has three, which is preferable to \"ATTT\"'s two.\n",
      "\n",
      "We reimplement the minimizer selector below. It uses the scoring system as a primary sorter and resorts to the diversity heuristic to break any resulting ties."
     ]
    },
    {
     "cell_type": "code",
     "collapsed": false,
     "input": [
      "def __getScore__(chars):\n",
      "        \n",
      "        odds = {'c': 0, 'a': 4, 't': 4, 'g': 5}\n",
      "        evens = {'c': 5, 'a': 4, 't': 4, 'g': 0}\n",
      "            \n",
      "        score = 0\n",
      "        \n",
      "        for i in range(0, len(chars)):\n",
      "            score += odds[chars[i]] if i % 2 else evens[chars[i]]\n",
      "            \n",
      "        return score\n",
      "\n",
      "\n",
      "def __getMin__(kmers):\n",
      "    \n",
      "    # converts kmers to a list of tuples of the form (kmer, score, diversity)\n",
      "    kmers = [(kmer, __getScore__(kmer[0]), len(set(kmer[0][:4]))) for kmer in kmers]\n",
      "    # select primarily on score, secondarily on diversity\n",
      "    # (extra [0] to return only the kmer)\n",
      "    return sorted(kmers, key=itemgetter(1, 2))[0][0]\n",
      "\n",
      "\n",
      "print \"Using the simple minimizer selection:\"\n",
      "minner = Minner(3, 3)\n",
      "minner.minimize(\"aattaatggaccata\")\n",
      "print minner.minimizers, '\\n'\n",
      "\n",
      "print \"Using new minimizer selection:\"\n",
      "minner = Minner(3, 3)\n",
      "minner.__getScore__ = __getScore__\n",
      "minner.__getMin__ = __getMin__\n",
      "minner.minimize(\"aattaatggaccata\")\n",
      "print minner.minimizers"
     ],
     "language": "python",
     "metadata": {},
     "outputs": [
      {
       "output_type": "stream",
       "stream": "stdout",
       "text": [
        "Using the simple minimizer selection:\n",
        "[('aat', 0, 0), ('aat', 0, 4), ('acc', 0, 9), ('ata', 0, 12), ('atg', 0, 5), ('att', 0, 1), ('gac', 0, 8)] \n",
        "\n",
        "Using new minimizer selection:\n",
        "[('aat', 0, 0), ('acc', 0, 9), ('atg', 0, 5), ('att', 0, 1), ('cca', 0, 10), ('gga', 0, 7), ('tgg', 0, 6), ('tta', 0, 2)]\n"
       ]
      }
     ],
     "prompt_number": 74
    },
    {
     "cell_type": "code",
     "collapsed": false,
     "input": [
      "def endMinimize(k, w, string):\n",
      "    \n",
      "    minimizers = []\n",
      "    \n",
      "    print \"\\nFRONT END MINIMIZERS\\n\"\n",
      "    \n",
      "    for w_ in range(1, w):\n",
      "        print \"kmers:\", kmers(k, string[0:k + w_ - 1])\n",
      "        print \"minimizer:\", getMin(kmers(k, string[0:k + w_ - 1]))\n",
      "        print '\\n'\n",
      "        minimizers.append(getMin(kmers(k, string[0:k + w_ - 1])))\n",
      "        \n",
      "    print \"\\nINTERIOR MINIMIZERS\\n\"\n",
      "    \n",
      "    for i in range(0, len(string) - (k + w - 2)):\n",
      "        print \"kmers:\", kmers(3, string[i:i + k + w - 1])\n",
      "        print \"minimizer:\", getMin(kmers(k, string[i:i + k + w - 1]))\n",
      "        print '\\n'\n",
      "        minimizers.append(getMin(kmers(k, string[i:i + k + w - 1])))\n",
      "\n",
      "    print \"\\nBACK END MINIMIZERS\\n\"\n",
      "    \n",
      "    for w_ in reversed(range(1, w)):\n",
      "        print \"kmers:\", kmers(3, string[len(string) - (k + w_ - 1):])\n",
      "        print \"minimizer:\", getMin(kmers(k, string[i:i + k + w - 1]))\n",
      "        print '\\n'\n",
      "        minimizers.append(getMin(kmers(k, string[i:i + k + w - 1])))\n",
      "        \n",
      "    print \"\\nEND\\n\"\n",
      "    \n",
      "    return minimizers\n",
      "\n",
      "    \n",
      "print \"minimizers:\", endMinimize(3, 3, \"tomato-soup\")"
     ],
     "language": "python",
     "metadata": {},
     "outputs": [
      {
       "output_type": "stream",
       "stream": "stdout",
       "text": [
        "minimizers: \n",
        "FRONT END MINIMIZERS\n",
        "\n",
        "kmers: ['tom']\n",
        "minimizer: tom\n",
        "\n",
        "\n",
        "kmers: ['tom', 'oma']\n",
        "minimizer: oma\n",
        "\n",
        "\n",
        "\n",
        "INTERIOR MINIMIZERS\n",
        "\n",
        "kmers: ['tom', 'oma', 'mat']\n",
        "minimizer: mat\n",
        "\n",
        "\n",
        "kmers: ['oma', 'mat', 'ato']\n",
        "minimizer: ato\n",
        "\n",
        "\n",
        "kmers: ['mat', 'ato', 'to-']\n",
        "minimizer: ato\n",
        "\n",
        "\n",
        "kmers: ['ato', 'to-', 'o-s']\n",
        "minimizer: ato\n",
        "\n",
        "\n",
        "kmers: ['to-', 'o-s', '-so']\n",
        "minimizer: -so\n",
        "\n",
        "\n",
        "kmers: ['o-s', '-so', 'sou']\n",
        "minimizer: -so\n",
        "\n",
        "\n",
        "kmers: ['-so', 'sou', 'oup']\n",
        "minimizer: -so\n",
        "\n",
        "\n",
        "\n",
        "BACK END MINIMIZERS\n",
        "\n",
        "kmers: ['sou', 'oup']\n",
        "minimizer: -so\n",
        "\n",
        "\n",
        "kmers: ['oup']\n",
        "minimizer: -so\n",
        "\n",
        "\n",
        "\n",
        "END\n",
        "\n",
        "['tom', 'oma', 'mat', 'ato', 'ato', 'ato', '-so', '-so', '-so', '-so', '-so']\n"
       ]
      }
     ],
     "prompt_number": 41
    },
    {
     "cell_type": "code",
     "collapsed": false,
     "input": [],
     "language": "python",
     "metadata": {},
     "outputs": []
    }
   ],
   "metadata": {}
  }
 ]
}