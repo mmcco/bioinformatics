{
 "metadata": {
  "name": "",
  "signature": "sha256:c8754806742acebd89743864fda3920d0efdd79854c0cba95211c88bbedbc85c"
 },
 "nbformat": 3,
 "nbformat_minor": 0,
 "worksheets": [
  {
   "cells": [
    {
     "cell_type": "code",
     "collapsed": false,
     "input": [
      "def kmers(k, string):\n",
      "    return [string[i:i+k] for i in range(0, len(string) - (k - 1))]\n",
      "\n",
      "print kmers(3, \"tomato\")"
     ],
     "language": "python",
     "metadata": {},
     "outputs": [
      {
       "output_type": "stream",
       "stream": "stdout",
       "text": [
        "['tom', 'oma', 'mat', 'ato']\n"
       ]
      }
     ],
     "prompt_number": 3
    },
    {
     "cell_type": "code",
     "collapsed": false,
     "input": [
      "def getMin(kmers):\n",
      "    return sorted(kmers)[0]\n",
      "\n",
      "print getMin([\"this\", \"is\", \"the\", \"first\", \"morning\"])"
     ],
     "language": "python",
     "metadata": {},
     "outputs": [
      {
       "output_type": "stream",
       "stream": "stdout",
       "text": [
        "first\n"
       ]
      }
     ],
     "prompt_number": 5
    },
    {
     "cell_type": "code",
     "collapsed": false,
     "input": [
      "def minimize(k, w, string):\n",
      "    minimizers = []\n",
      "    for i in range(0, len(string) - (k + w - 2)):\n",
      "        print i, i + k + w - 1\n",
      "        print string[i:i + k + w - 1]\n",
      "        print kmers(3, string[i:i + k + w - 1])\n",
      "        minimizers.append(getMin(kmers(k, string[i:i + k + w - 1])))\n",
      "    return minimizers\n",
      "    \n",
      "print minimize(3, 3, \"tomato-soup\")"
     ],
     "language": "python",
     "metadata": {},
     "outputs": [
      {
       "output_type": "stream",
       "stream": "stdout",
       "text": [
        "0 5\n",
        "tomat\n",
        "['tom', 'oma', 'mat']\n",
        "1 6\n",
        "omato\n",
        "['oma', 'mat', 'ato']\n",
        "2 7\n",
        "mato-\n",
        "['mat', 'ato', 'to-']\n",
        "3 8\n",
        "ato-s\n",
        "['ato', 'to-', 'o-s']\n",
        "4 9\n",
        "to-so\n",
        "['to-', 'o-s', '-so']\n",
        "5 10\n",
        "o-sou\n",
        "['o-s', '-so', 'sou']\n",
        "6 11\n",
        "-soup\n",
        "['-so', 'sou', 'oup']\n",
        "['mat', 'ato', 'ato', 'ato', '-so', '-so', '-so']\n"
       ]
      }
     ],
     "prompt_number": 19
    },
    {
     "cell_type": "code",
     "collapsed": false,
     "input": [],
     "language": "python",
     "metadata": {},
     "outputs": []
    }
   ],
   "metadata": {}
  }
 ]
}