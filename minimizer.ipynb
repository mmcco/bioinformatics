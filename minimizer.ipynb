{
 "metadata": {
  "name": "",
  "signature": "sha256:f24e5241db89bb098ae9ae204c300bc98b0b3b4ad175a24199b7749777d1ac77"
 },
 "nbformat": 3,
 "nbformat_minor": 0,
 "worksheets": [
  {
   "cells": [
    {
     "cell_type": "code",
     "collapsed": false,
     "input": [
      "def kmers(k, string):\n",
      "    return [string[i:i+k] for i in range(0, len(string) - (k - 1))]\n",
      "\n",
      "print kmers(3, \"tomato\")"
     ],
     "language": "python",
     "metadata": {},
     "outputs": [
      {
       "output_type": "stream",
       "stream": "stdout",
       "text": [
        "['tom', 'oma', 'mat', 'ato']\n"
       ]
      }
     ],
     "prompt_number": 36
    },
    {
     "cell_type": "code",
     "collapsed": false,
     "input": [
      "def getMin(kmers):\n",
      "    return sorted(kmers)[0]\n",
      "\n",
      "print getMin([\"this\", \"is\", \"the\", \"first\", \"morning\"])"
     ],
     "language": "python",
     "metadata": {},
     "outputs": [
      {
       "output_type": "stream",
       "stream": "stdout",
       "text": [
        "first\n"
       ]
      }
     ],
     "prompt_number": 5
    },
    {
     "cell_type": "code",
     "collapsed": false,
     "input": [
      "def minimize(k, w, string):\n",
      "    \n",
      "    minimizers = []\n",
      "    \n",
      "    for i in range(0, len(string) - (k + w - 2)):\n",
      "        print i, i + k + w - 1\n",
      "        print string[i:i + k + w - 1]\n",
      "        print kmers(3, string[i:i + k + w - 1])\n",
      "        minimizers.append(getMin(kmers(k, string[i:i + k + w - 1])))\n",
      "        \n",
      "    return minimizers\n",
      "    \n",
      "print minimize(3, 3, \"tomato-soup\")"
     ],
     "language": "python",
     "metadata": {},
     "outputs": [
      {
       "output_type": "stream",
       "stream": "stdout",
       "text": [
        "0 5\n",
        "tomat\n",
        "['tom', 'oma', 'mat']\n",
        "1 6\n",
        "omato\n",
        "['oma', 'mat', 'ato']\n",
        "2 7\n",
        "mato-\n",
        "['mat', 'ato', 'to-']\n",
        "3 8\n",
        "ato-s\n",
        "['ato', 'to-', 'o-s']\n",
        "4 9\n",
        "to-so\n",
        "['to-', 'o-s', '-so']\n",
        "5 10\n",
        "o-sou\n",
        "['o-s', '-so', 'sou']\n",
        "6 11\n",
        "-soup\n",
        "['-so', 'sou', 'oup']\n",
        "['mat', 'ato', 'ato', 'ato', '-so', '-so', '-so']\n"
       ]
      }
     ],
     "prompt_number": 19
    },
    {
     "cell_type": "code",
     "collapsed": false,
     "input": [
      "def endMinimize(k, w, string):\n",
      "    \n",
      "    minimizers = []\n",
      "    \n",
      "    print \"\\nFRONT END MINIMIZERS\\n\"\n",
      "    \n",
      "    for w_ in range(1, w):\n",
      "        print \"kmers:\", kmers(k, string[0:k + w_ - 1])\n",
      "        print \"minimizer:\", getMin(kmers(k, string[0:k + w_ - 1]))\n",
      "        print '\\n'\n",
      "        minimizers.append(getMin(kmers(k, string[0:k + w_ - 1])))\n",
      "        \n",
      "    print \"\\nINTERIOR MINIMIZERS\\n\"\n",
      "    \n",
      "    for i in range(0, len(string) - (k + w - 2)):\n",
      "        print \"kmers:\", kmers(3, string[i:i + k + w - 1])\n",
      "        print \"minimizer:\", getMin(kmers(k, string[i:i + k + w - 1]))\n",
      "        print '\\n'\n",
      "        minimizers.append(getMin(kmers(k, string[i:i + k + w - 1])))\n",
      "\n",
      "    print \"\\nBACK END MINIMIZERS\\n\"\n",
      "    \n",
      "    for w_ in reversed(range(1, w)):\n",
      "        print \"kmers:\", kmers(3, string[len(string) - (k + w_ - 1):])\n",
      "        print \"minimizer:\", getMin(kmers(k, string[i:i + k + w - 1]))\n",
      "        print '\\n'\n",
      "        minimizers.append(getMin(kmers(k, string[i:i + k + w - 1])))\n",
      "        \n",
      "    print \"\\nEND\\n\"\n",
      "    \n",
      "    return minimizers\n",
      "\n",
      "    \n",
      "print endMinimize(3, 3, \"tomato-soup\")"
     ],
     "language": "python",
     "metadata": {},
     "outputs": [
      {
       "output_type": "stream",
       "stream": "stdout",
       "text": [
        "\n",
        "FRONT END MINIMIZERS\n",
        "\n",
        "kmers: ['tom']\n",
        "minimizer: tom\n",
        "\n",
        "\n",
        "kmers: ['tom', 'oma']\n",
        "minimizer: oma\n",
        "\n",
        "\n",
        "\n",
        "INTERIOR MINIMIZERS\n",
        "\n",
        "kmers: ['tom', 'oma', 'mat']\n",
        "minimizer: mat\n",
        "\n",
        "\n",
        "kmers: ['oma', 'mat', 'ato']\n",
        "minimizer: ato\n",
        "\n",
        "\n",
        "kmers: ['mat', 'ato', 'to-']\n",
        "minimizer: ato\n",
        "\n",
        "\n",
        "kmers: ['ato', 'to-', 'o-s']\n",
        "minimizer: ato\n",
        "\n",
        "\n",
        "kmers: ['to-', 'o-s', '-so']\n",
        "minimizer: -so\n",
        "\n",
        "\n",
        "kmers: ['o-s', '-so', 'sou']\n",
        "minimizer: -so\n",
        "\n",
        "\n",
        "kmers: ['-so', 'sou', 'oup']\n",
        "minimizer: -so\n",
        "\n",
        "\n",
        "\n",
        "BACK END MINIMIZERS\n",
        "\n",
        "kmers: ['sou', 'oup']\n",
        "minimizer: -so\n",
        "\n",
        "\n",
        "kmers: ['oup']\n",
        "minimizer: -so\n",
        "\n",
        "\n",
        "\n",
        "END\n",
        "\n",
        "['tom', 'oma', 'mat', 'ato', 'ato', 'ato', '-so', '-so', '-so', '-so', '-so']\n"
       ]
      }
     ],
     "prompt_number": 40
    },
    {
     "cell_type": "code",
     "collapsed": false,
     "input": [],
     "language": "python",
     "metadata": {},
     "outputs": []
    }
   ],
   "metadata": {}
  }
 ]
}